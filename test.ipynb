{
 "cells": [
  {
   "cell_type": "code",
   "execution_count": 12,
   "metadata": {
    "collapsed": true
   },
   "outputs": [
    {
     "name": "stdout",
     "output_type": "stream",
     "text": [
      "torch.Size([3])\n",
      "torch.Size([3, 1, 3, 3])\n"
     ]
    }
   ],
   "source": [
    "import torch\n",
    "from torch import nn\n",
    "\n",
    "net = nn.Linear()\n",
    "\n",
    "print(net.bias.size())\n",
    "print(net.weight.size())"
   ]
  },
  {
   "cell_type": "code",
   "execution_count": 16,
   "outputs": [
    {
     "name": "stdout",
     "output_type": "stream",
     "text": [
      "tensor([[[[ 0.5189,  1.0843,  1.1104],\n",
      "          [-0.3438, -0.4179, -0.0359],\n",
      "          [ 0.5324,  0.3433,  0.4844]],\n",
      "\n",
      "         [[ 0.3908,  0.1610,  0.9979],\n",
      "          [-0.5119, -0.0266, -0.1390],\n",
      "          [ 0.5224,  0.1589,  0.0970]],\n",
      "\n",
      "         [[ 0.5917,  1.2566,  0.6482],\n",
      "          [-0.0394, -0.2295,  0.5638],\n",
      "          [ 0.0016,  0.7486,  0.4546]]]], grad_fn=<ThnnConv2DBackward>) torch.Size([1, 3, 3, 3])\n"
     ]
    }
   ],
   "source": [
    "# x [1, 1, 3, 3]\n",
    "x = torch.tensor([[[[-0.0284, -0.1473,  1.1752],\n",
    "                    [-1.1211, -0.9204, -1.6704],\n",
    "                    [ 0.8442, -1.0555, -0.1032]]]])\n",
    "\n",
    "print(net(x), net(x).size())"
   ],
   "metadata": {
    "collapsed": false,
    "pycharm": {
     "name": "#%%\n"
    }
   }
  },
  {
   "cell_type": "code",
   "execution_count": 17,
   "outputs": [],
   "source": [
    "bias = net.bias\n",
    "weight = net.weight\n",
    "\n"
   ],
   "metadata": {
    "collapsed": false,
    "pycharm": {
     "name": "#%%\n"
    }
   }
  },
  {
   "cell_type": "code",
   "execution_count": null,
   "outputs": [],
   "source": [],
   "metadata": {
    "collapsed": false,
    "pycharm": {
     "name": "#%%\n"
    }
   }
  }
 ],
 "metadata": {
  "kernelspec": {
   "name": "pycharm-beb4be02",
   "language": "python",
   "display_name": "PyCharm (pytorch-quantization-demo)"
  },
  "language_info": {
   "codemirror_mode": {
    "name": "ipython",
    "version": 2
   },
   "file_extension": ".py",
   "mimetype": "text/x-python",
   "name": "python",
   "nbconvert_exporter": "python",
   "pygments_lexer": "ipython2",
   "version": "2.7.6"
  }
 },
 "nbformat": 4,
 "nbformat_minor": 0
}